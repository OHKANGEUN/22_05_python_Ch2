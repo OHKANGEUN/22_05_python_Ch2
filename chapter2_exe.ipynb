{
  "nbformat": 4,
  "nbformat_minor": 0,
  "metadata": {
    "colab": {
      "provenance": [],
      "authorship_tag": "ABX9TyPpQCarjruZdtrmSlWH7Cgi",
      "include_colab_link": true
    },
    "kernelspec": {
      "name": "python3",
      "display_name": "Python 3"
    },
    "language_info": {
      "name": "python"
    }
  },
  "cells": [
    {
      "cell_type": "markdown",
      "metadata": {
        "id": "view-in-github",
        "colab_type": "text"
      },
      "source": [
        "<a href=\"https://colab.research.google.com/github/OHKANGEUN/22_05_python_Ch2/blob/main/chapter2_exe.ipynb\" target=\"_parent\"><img src=\"https://colab.research.google.com/assets/colab-badge.svg\" alt=\"Open In Colab\"/></a>"
      ]
    },
    {
      "cell_type": "code",
      "execution_count": null,
      "metadata": {
        "id": "d-gnZemHKbBj"
      },
      "outputs": [],
      "source": []
    },
    {
      "cell_type": "markdown",
      "source": [
        "사용자에게 이름과 나이를 입력하게 한다. 사용자가 100살이 되는 \n",
        "연도를 화면에 출력 하는 프로그램을 작성하라"
      ],
      "metadata": {
        "id": "-aZDfW8rPi8J"
      }
    },
    {
      "cell_type": "code",
      "source": [
        "name=input(\"이름을 입력하시오.:\")       #변수 name에 input함수를 사용하여 사용자에게 이름을 입력받음\n",
        "age=int(input(\"나이를 입력하시오.:\"))   #변수 age에 int(정수형선언)함수로 사용자에게 나이를 입력받음\n",
        "year=2022-age+100                       #변수 year에 현재 연도 - 변수(age)+100\n",
        "print(name + \"씨는\"+str(year)+\"년에 100살입니다.\")"
      ],
      "metadata": {
        "colab": {
          "base_uri": "https://localhost:8080/",
          "height": 0
        },
        "id": "wJ9ZOV5gPwX9",
        "outputId": "afc60188-5cc2-4a6c-c46b-0b5b30eafcae"
      },
      "execution_count": 2,
      "outputs": [
        {
          "output_type": "stream",
          "name": "stdout",
          "text": [
            "이름을 입력하시오.:오강은\n",
            "나이를 입력하시오.:20\n",
            "오강은씨는2102년에 100살입니다.\n"
          ]
        }
      ]
    },
    {
      "cell_type": "markdown",
      "source": [
        "사용자로부터 3개의 숫자를 받아서 평균을 계산하라"
      ],
      "metadata": {
        "id": "uLo0OK2aTcuo"
      }
    },
    {
      "cell_type": "code",
      "source": [
        "n1=int(input(\"첫 번쨰 값를 입력하시오:\"))\n",
        "n2=int(input(\"두 번째 값을 입력하시오.\"))\n",
        "n3=int(input(\"세 번째 값을 입력하시오.\"))\n",
        "aver=(n1+n2+n3)/3                          #변수  aver에 n1,n2,n3를(로 묶어야한다.) 더하고 3으로 나눈다\n",
        "sum=n1+n2+n3\n",
        "print(n1,n2,n3,\"합은\",sum,\"이고\",\"의 평균은\",aver,\"입니다.\")"
      ],
      "metadata": {
        "colab": {
          "base_uri": "https://localhost:8080/",
          "height": 0
        },
        "id": "o5aOz6EtTiDg",
        "outputId": "96812213-b0a5-4a3c-d8a5-580203102ed6"
      },
      "execution_count": 3,
      "outputs": [
        {
          "output_type": "stream",
          "name": "stdout",
          "text": [
            "첫 번쨰 값를 입력하시오:10\n",
            "두 번째 값을 입력하시오.20\n",
            "세 번째 값을 입력하시오.30\n",
            "10 20 30 합은 60 이고 의 평균은 20.0 입니다.\n"
          ]
        }
      ]
    },
    {
      "cell_type": "markdown",
      "source": [
        "(3)사용자로부터 반지름을 입력받아서 면적을 구하시오."
      ],
      "metadata": {
        "id": "XVYSgTB1V5sy"
      }
    },
    {
      "cell_type": "code",
      "source": [
        "radius=int(input(\"반지름을 입력하시오.:\"))\n",
        "area=3.141592*radius*radius\n",
        "print(\"반지름이\", radius,\"원의 넓이는 =\",area, \"입니다.\")"
      ],
      "metadata": {
        "colab": {
          "base_uri": "https://localhost:8080/",
          "height": 0
        },
        "id": "wNKbjojvWBNt",
        "outputId": "448bcc31-e58c-47fb-d9c4-6a00056ebfab"
      },
      "execution_count": 7,
      "outputs": [
        {
          "output_type": "stream",
          "name": "stdout",
          "text": [
            "반지름을 입력하시오.:10\n",
            "반지름이 10 원의 넓이는 = 314.1592 입니다.\n"
          ]
        }
      ]
    }
  ]
}